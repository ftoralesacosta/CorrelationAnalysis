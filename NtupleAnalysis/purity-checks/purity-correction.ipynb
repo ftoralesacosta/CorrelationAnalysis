{
 "cells": [
  {
   "cell_type": "markdown",
   "metadata": {},
   "source": [
    "# Import packages and define functions"
   ]
  },
  {
   "cell_type": "code",
   "execution_count": null,
   "metadata": {},
   "outputs": [],
   "source": [
    "from default_values import *\n",
    "from ntuples_to_dfs import *\n",
    "from template_fit import *\n",
    "\n",
    "import matplotlib.pyplot as plt\n",
    "import numpy as np\n",
    "import time\n",
    "from sklearn.model_selection import train_test_split\n",
    "\n",
    "%matplotlib inline"
   ]
  },
  {
   "cell_type": "code",
   "execution_count": null,
   "metadata": {},
   "outputs": [],
   "source": [
    "nBins = 40\n",
    "varinfo[nn1] = (np.linspace(0, 1, nBins + 1), nn1purity, 'Deep Neural Network Output')\n",
    "varinfo[lambda2] = (np.linspace(0, 2, nBins + 1), lambda2purity, '$\\sigma^2_{long}$')\n",
    "varinfo[emaxe] = (np.linspace(0, 1, nBins + 1), emaxepurity, 'Emax/Ecluster')\n",
    "\n",
    "nSamples = 1000\n",
    "ptranges = [(12, 14), (14, 16), (20, 30)]\n",
    "\n",
    "def getTrueFrac(fulldatadf, fullgjmcdf, fitvar, ptrange):\n",
    "    binEdges, purityRange, _ = varinfo[fitvar]\n",
    "\n",
    "    ptcut = '{0}>{1} and {0}<{2}'.format('cluster_pt', *ptrange)\n",
    "    datadf = applyCut(fulldatadf, ptcut)\n",
    "    mcdf = applyCut(fullgjmcdf, ptcut)\n",
    "\n",
    "    isodf = applyCut(datadf, isocuttext)\n",
    "    signaldf = applyCut(mcdf, isocuttext)\n",
    "    bkgdf = applyCut(datadf, antiisocuttext)\n",
    "\n",
    "    datahist, dataerr = getHistAndErr(isodf, fitvar, binEdges)\n",
    "    signalhist, signalerr = getHistAndErr(signaldf, fitvar, binEdges)\n",
    "    bkghist, bkgerr = getHistAndErr(bkgdf, fitvar, binEdges)\n",
    "\n",
    "    tf = TemplateFit(datahist, dataerr, signalhist, signalerr, bkghist, bkgerr, binEdges, verbosity=0)\n",
    "\n",
    "    return tf.fitf\n",
    "\n",
    "\n",
    "def getNormHistAndErr(df, fitvar):\n",
    "    binEdges = varinfo[fitvar][0]\n",
    "\n",
    "    hist, err = getHistAndErr(df, fitvar, binEdges)\n",
    "    nTotal = np.sum(hist)\n",
    "    return np.divide(hist, nTotal), np.divide(err, nTotal)\n",
    "\n",
    "\n",
    "def makePseudodataset(signalhist, signalerr, bkghist, bkgerr, signalFrac):\n",
    "    hist = np.sum([np.multiply(signalhist, signalFrac), np.multiply(bkghist, 1 - signalFrac)], axis=0)\n",
    "    err = np.sqrt(np.sum([np.multiply(np.square(signalerr), signalFrac ** 2), np.multiply(np.square(bkgerr), (1 - signalFrac) ** 2)], axis=0))\n",
    "\n",
    "    return hist, err\n",
    "\n",
    "\n",
    "def plotTfComp(fitvar, signalFrac, ptrange):\n",
    "    signaldf = applyCut(fullgjmcdf, ptcuttext(ptrange))\n",
    "    bkgdf = applyCut(fulljjmcdf, ptcuttext(ptrange))\n",
    "\n",
    "    signalisodf = applyCut(signaldf, isocuttext)\n",
    "    bkgisodf = applyCut(bkgdf, isocuttext)\n",
    "    bkgantiisodf = applyCut(bkgdf, antiisocuttext)\n",
    "\n",
    "    samplesignaldf, templatesignaldf = train_test_split(signalisodf, test_size=0.5)\n",
    "    samplebkgdf, templatebkgdf = train_test_split(bkgisodf, test_size=0.5)\n",
    "\n",
    "    samplesignalhist, samplesignalerr = getNormHistAndErr(samplesignaldf, fitvar)\n",
    "    samplebkghist, samplebkgerr = getNormHistAndErr(samplebkgdf, fitvar)\n",
    "    pseudodatahist, pseudodataerr = makePseudodataset(samplesignalhist, samplesignalerr, samplebkghist, samplebkgerr, signalFrac)\n",
    "\n",
    "    print 'signal: {0}; iso bkg: {1}; anti-iso bkg: {2}'.format(signalisodf.shape[0], bkgisodf.shape[0], bkgantiisodf.shape[0])\n",
    "    \n",
    "    binEdges, purityRange, xlabel = varinfo[fitvar]\n",
    "\n",
    "    signalisohist, signalisoerr = getHistAndErr(templatesignaldf, fitvar, binEdges)\n",
    "    bkgisohist, bkgisoerr = getHistAndErr(templatebkgdf, fitvar, binEdges)\n",
    "    bkgantiisohist, bkgantiisoerr = getHistAndErr(bkgantiisodf, fitvar, binEdges)\n",
    "\n",
    "    isotf = TemplateFit(pseudodatahist, pseudodataerr, signalisohist, signalisoerr, bkgisohist, bkgisoerr, binEdges, verbosity=0)\n",
    "    antiisotf = TemplateFit(pseudodatahist, pseudodataerr, signalisohist, signalisoerr, bkgantiisohist, bkgantiisoerr, binEdges, verbosity=0)\n",
    "    truePurity = getPurity(samplesignalhist, samplebkghist, binEdges, signalFrac, *purityRange)\n",
    "    \n",
    "    print '{0}: true purity = {1}'.format(fitvar, truePurity)\n",
    "    print 'Iso: fit fraction = {0}, purity = {1}'.format(isotf.fitf, isotf.getPurity(*purityRange)[0])\n",
    "    print 'Anti-iso: fit fraction = {0}, purity = {1}'.format(antiisotf.fitf, antiisotf.getPurity(*purityRange)[0])\n",
    "\n",
    "    fig = plt.figure(figsize=(25, 5))\n",
    "    plt.subplot(121)\n",
    "    isotf.plotFit(xlabel, dataLabel='Pseudodata', signalLabel='Signal (MC)', bkgLabel='Bkg (isolated dijet MC)', texts=['Purity = {0:2.2f}'.format(isotf.getPurity(*purityRange)[0]), '{0} < pT < {1}'.format(*ptrange)])\n",
    "    plt.ylabel('Arb. units')\n",
    "    plt.subplot(122)\n",
    "    antiisotf.plotFit(xlabel, dataLabel='Pseudodata', signalLabel='Signal (MC)', bkgLabel='Bkg (anti-isolated dijet MC)', texts=['Purity = {0:2.2f}'.format(antiisotf.getPurity(*purityRange)[0]), '{0} < pT < {1}'.format(*ptrange)])\n",
    "    plt.ylabel('Arb. units')\n",
    "    plt.show()\n",
    "\n",
    "\n",
    "def calculatePurityCorrection(fullgjmcdf, fulljjmcdf, fitvar, signalFrac, ptrange, nSamples):\n",
    "    start = time.time()\n",
    "    signaldf = applyCut(fullgjmcdf, ptcuttext(ptrange))\n",
    "    bkgdf = applyCut(fulljjmcdf, ptcuttext(ptrange))\n",
    "\n",
    "    signalisodf = applyCut(signaldf, isocuttext)\n",
    "    bkgisodf = applyCut(bkgdf, isocuttext)\n",
    "    bkgantiisodf = applyCut(bkgdf, antiisocuttext)\n",
    "    \n",
    "    print 'signal: {0}; iso bkg: {1}; anti-iso bkg: {2}'.format(signalisodf.shape[0], bkgisodf.shape[0], bkgantiisodf.shape[0])\n",
    "\n",
    "    binEdges, purityRange, _ = varinfo[fitvar]\n",
    "\n",
    "    truePurities = []\n",
    "    isoPurities = []\n",
    "    antiisoPurities = []\n",
    "\n",
    "    for _ in range(nSamples):\n",
    "        samplesignaldf, templatesignaldf = train_test_split(signalisodf, test_size=0.5)\n",
    "        samplebkgdf, templatebkgdf = train_test_split(bkgisodf, test_size=0.5)\n",
    "\n",
    "        samplesignalhist, samplesignalerr = getNormHistAndErr(samplesignaldf, fitvar)\n",
    "        samplebkghist, samplebkgerr = getNormHistAndErr(samplebkgdf, fitvar)\n",
    "        pseudodatahist, pseudodataerr = makePseudodataset(samplesignalhist, samplesignalerr, samplebkghist, samplebkgerr, signalFrac)\n",
    "\n",
    "        signalisohist, signalisoerr = getHistAndErr(templatesignaldf, fitvar, binEdges)\n",
    "        bkgisohist, bkgisoerr = getHistAndErr(templatebkgdf, fitvar, binEdges)\n",
    "        bkgantiisohist, bkgantiisoerr = getHistAndErr(bkgantiisodf, fitvar, binEdges)\n",
    "\n",
    "        isotf = TemplateFit(pseudodatahist, pseudodataerr, signalisohist, signalisoerr, bkgisohist, bkgisoerr, binEdges, verbosity=0)\n",
    "        antiisotf = TemplateFit(pseudodatahist, pseudodataerr, signalisohist, signalisoerr, bkgantiisohist, bkgantiisoerr, binEdges, verbosity=0)\n",
    "        truePurity = getPurity(samplesignalhist, samplebkghist, binEdges, signalFrac, *purityRange)\n",
    "\n",
    "        truePurities.append(truePurity)\n",
    "        isoPurities.append(isotf.getPurity(*purityRange)[0])\n",
    "        antiisoPurities.append(antiisotf.getPurity(*purityRange)[0])\n",
    "\n",
    "    purityDiffs = np.subtract(isoPurities, antiisoPurities)\n",
    "    print 'Correction = {0} +/- {1}'.format(np.mean(purityDiffs), np.std(purityDiffs))\n",
    "    end = time.time()\n",
    "    print '{0} samples in {1} seconds'.format(nSamples, end - start)\n",
    "\n",
    "    return truePurities, isoPurities, antiisoPurities\n",
    "\n",
    "def calculateCorrectionsInBins(ptranges, nSamples, var, showPlot=False):\n",
    "    for ptrange in ptranges:\n",
    "        print 'system: pp; variable: {0}; ptrange: {1} < pT < {2}'.format(var, *ptrange)\n",
    "        frac = getTrueFrac(fulldatadf, fullgjmcdf, var, ptrange)\n",
    "        if showPlot:\n",
    "            plotTfComp(var, frac, ptrange)\n",
    "        calculatePurityCorrection(fullgjmcdf, fulljjmcdf, var, frac, ptrange, nSamples)"
   ]
  },
  {
   "cell_type": "markdown",
   "metadata": {},
   "source": [
    "# Process ntuples"
   ]
  },
  {
   "cell_type": "code",
   "execution_count": null,
   "metadata": {},
   "outputs": [],
   "source": [
    "fulldatadf = applyCuts(getData(ppdataFiles, ntupledir), fullpt)\n",
    "fullgjmcdf = applyCuts(getData(ppgjmcFiles, ntupledir), fullpt)\n",
    "fulljjmcdf = applyCuts(getData(ppjjmcFiles, ntupledir), fullpt)"
   ]
  },
  {
   "cell_type": "markdown",
   "metadata": {},
   "source": [
    "# Plot Dijet MC shower shape distributions for iso vs anti-iso"
   ]
  },
  {
   "cell_type": "code",
   "execution_count": null,
   "metadata": {},
   "outputs": [],
   "source": [
    "bkgisodf = applyCut(fulljjmcdf, isocuttext)\n",
    "bkgantiisodf = applyCut(fulljjmcdf, antiisocuttext)\n",
    "\n",
    "fig = plt.figure(figsize=(15, 5))\n",
    "for (i, fitvar) in enumerate([emaxe, lambda2, nn1]):\n",
    "    binEdges, _, xlabel = varinfo[fitvar]\n",
    "    plt.subplot(1, 3, i + 1)\n",
    "    plt.hist(bkgisodf[fitvar], bins=binEdges, weights=bkgisodf['weights'], normed=True, histtype='step', label='Dijet MC, isolated')\n",
    "    plt.hist(bkgantiisodf[fitvar], bins=binEdges, weights=bkgantiisodf['weights'], normed=True, histtype='step', label='Dijet MC, anti-iso')\n",
    "    if fitvar == lambda2:\n",
    "        plt.xlabel('$\\mathrm{\\sigma^2_{long}}$', fontsize=14)\n",
    "    else:\n",
    "        plt.xlabel(xlabel)\n",
    "    plt.ylabel('Normalized counts')\n",
    "    plt.legend(loc=0, fontsize=8, frameon=False, framealpha=0.9)\n",
    "\n",
    "plt.suptitle('18g7a Dijet MC, 12 < $p_T$ < 30 GeV/c')\n",
    "plt.show()"
   ]
  },
  {
   "cell_type": "markdown",
   "metadata": {},
   "source": [
    "# Calculate purity corrections in full pT range"
   ]
  },
  {
   "cell_type": "code",
   "metadata": {},
   "outputs": [
    {
     "name": "stdout",
     "output_type": "stream",
     "text": [
      "system: pp; variable: cluster_NN1; ptrange: 12 < pT < 30\n",
      "signal: 240720; iso bkg: 30045; anti-iso bkg: 29514\n",
      "Correction = -0.0975778475404 +/- 0.0114870276302\n",
      "1000 samples in 4402.1679492 seconds\n"
     ]
    }
   ],
   "source": [
    "calculateCorrectionsInBins([(12, 30)], nSamples, nn1, False)"
   ]
  },
  {
   "cell_type": "code",
   "metadata": {},
   "outputs": [
    {
     "name": "stdout",
     "output_type": "stream",
     "text": [
      "system: pp; variable: cluster_Lambda; ptrange: 12 < pT < 30\n",
      "signal: 240720; iso bkg: 30045; anti-iso bkg: 29514\n",
      "Correction = -0.0744957849383 +/- 0.0141493547708\n",
      "1000 samples in 4461.46616197 seconds\n"
     ]
    }
   ],
   "source": [
    "calculateCorrectionsInBins([(12, 30)], nSamples, lambda2, False)"
   ]
  },
  {
   "cell_type": "code",
   "metadata": {},
   "outputs": [
    {
     "name": "stdout",
     "output_type": "stream",
     "text": [
      "system: pp; variable: cluster_emax_over_e; ptrange: 12 < pT < 30\n",
      "signal: 240720; iso bkg: 30045; anti-iso bkg: 29514\n",
      "Correction = -0.0602083876729 +/- 0.0126861836761\n",
      "1000 samples in 5924.55793905 seconds\n"
     ]
    }
   ],
   "source": [
    "calculateCorrectionsInBins([(12, 30)], nSamples, emaxe, False)"
   ]
  },
  {
   "cell_type": "markdown",
   "metadata": {},
   "source": [
    "## Check for pT dependence of purity corrections"
   ]
  },
  {
   "cell_type": "code",
   "metadata": {},
   "outputs": [
    {
     "name": "stdout",
     "output_type": "stream",
     "text": [
      "system: pp; variable: cluster_NN1; ptrange: 12 < pT < 14\n",
      "signal: 45688; iso bkg: 13406; anti-iso bkg: 11262\n",
      "Correction = -0.0924268960953 +/- 0.0161132961512\n",
      "1000 samples in 1041.59933901 seconds\n",
      "system: pp; variable: cluster_NN1; ptrange: 14 < pT < 16\n",
      "signal: 37493; iso bkg: 6781; anti-iso bkg: 6726\n",
      "Correction = -0.0891616642475 +/- 0.0296562556177\n",
      "1000 samples in 731.023452997 seconds\n",
      "system: pp; variable: cluster_NN1; ptrange: 20 < pT < 30\n",
      "signal: 101485; iso bkg: 3886; anti-iso bkg: 4901\n",
      "Correction = -0.108597576618 +/- 0.0729878768325\n",
      "1000 samples in 1861.52579498 seconds\n"
     ]
    }
   ],
   "source": [
    "calculateCorrectionsInBins(ptranges, nSamples, nn1, False)"
   ]
  },
  {
   "cell_type": "code",
   "execution_count": null,
   "metadata": {},
   "outputs": [
    {
     "name": "stdout",
     "output_type": "stream",
     "text": [
      "system: pp; variable: cluster_Lambda; ptrange: 12 < pT < 14\n",
      "signal: 45688; iso bkg: 13406; anti-iso bkg: 11262\n",
      "Correction = -0.0425683408976 +/- 0.0220940820873\n",
      "1000 samples in 969.767201185 seconds\n",
      "system: pp; variable: cluster_Lambda; ptrange: 14 < pT < 16\n",
      "signal: 37493; iso bkg: 6781; anti-iso bkg: 6726\n",
      "Correction = -0.0538754761219 +/- 0.0511893630028\n",
      "1000 samples in 975.478887081 seconds\n",
      "system: pp; variable: cluster_Lambda; ptrange: 20 < pT < 30\n",
      "signal: 101485; iso bkg: 3886; anti-iso bkg: 4901\n",
      "Correction = -0.0790451541543 +/- 0.0304083526134\n",
      "1000 samples in 2529.05548692 seconds\n"
     ]
    }
   ],
   "source": [
    "calculateCorrectionsInBins(ptranges, nSamples, lambda2, False)"
   ]
  },
  {
   "cell_type": "code",
   "metadata": {},
   "outputs": [
    {
     "name": "stdout",
     "output_type": "stream",
     "text": [
      "system: pp; variable: cluster_emax_over_e; ptrange: 12 < pT < 14\n",
      "signal: 45688; iso bkg: 13406; anti-iso bkg: 11262\n",
      "Correction = -0.0257553588599 +/- 0.0194715820253\n",
      "1000 samples in 968.588465929 seconds\n",
      "system: pp; variable: cluster_emax_over_e; ptrange: 14 < pT < 16\n",
      "signal: 37493; iso bkg: 6781; anti-iso bkg: 6726\n",
      "Correction = -0.0311748199165 +/- 0.0253843497485\n",
      "1000 samples in 707.783909082 seconds\n",
      "system: pp; variable: cluster_emax_over_e; ptrange: 20 < pT < 30\n",
      "signal: 101485; iso bkg: 3886; anti-iso bkg: 4901\n",
      "Correction = -0.104386046529 +/- 0.0350959859788\n",
      "1000 samples in 1694.56827617 seconds\n"
     ]
    }
   ],
   "source": [
    "calculateCorrectionsInBins(ptranges, nSamples, emaxe, False)"
   ]
  },
  {
   "cell_type": "markdown",
   "metadata": {},
   "source": [
    "# Plot examples of fits with iso vs anti-iso background"
   ]
  },
  {
   "cell_type": "code",
   "execution_count": null,
   "metadata": {},
   "outputs": [],
   "source": [
    "def makeTfCompFigure(fitvar, ptrange, subplot):\n",
    "    signalFrac = getTrueFrac(fulldatadf, fullgjmcdf, fitvar, ptrange)\n",
    "    \n",
    "    signaldf = applyCut(fullgjmcdf, ptcuttext(ptrange))\n",
    "    bkgdf = applyCut(fulljjmcdf, ptcuttext(ptrange))\n",
    "\n",
    "    signalisodf = applyCut(signaldf, isocuttext)\n",
    "    bkgisodf = applyCut(bkgdf, isocuttext)\n",
    "    bkgantiisodf = applyCut(bkgdf, antiisocuttext)\n",
    "\n",
    "    samplesignaldf, templatesignaldf = train_test_split(signalisodf, test_size=0.5)\n",
    "    samplebkgdf, templatebkgdf = train_test_split(bkgisodf, test_size=0.5)\n",
    "\n",
    "    samplesignalhist, samplesignalerr = getNormHistAndErr(samplesignaldf, fitvar)\n",
    "    samplebkghist, samplebkgerr = getNormHistAndErr(samplebkgdf, fitvar)\n",
    "    pseudodatahist, pseudodataerr = makePseudodataset(samplesignalhist, samplesignalerr, samplebkghist, samplebkgerr, signalFrac)\n",
    "    \n",
    "    binEdges, purityRange, xlabel = varinfo[fitvar]\n",
    "\n",
    "    signalisohist, signalisoerr = getHistAndErr(templatesignaldf, fitvar, binEdges)\n",
    "    bkgisohist, bkgisoerr = getHistAndErr(templatebkgdf, fitvar, binEdges)\n",
    "    bkgantiisohist, bkgantiisoerr = getHistAndErr(bkgantiisodf, fitvar, binEdges)\n",
    "\n",
    "    isotf = TemplateFit(pseudodatahist, pseudodataerr, signalisohist, signalisoerr, bkgisohist, bkgisoerr, binEdges, verbosity=0)\n",
    "    antiisotf = TemplateFit(pseudodatahist, pseudodataerr, signalisohist, signalisoerr, bkgantiisohist, bkgantiisoerr, binEdges, verbosity=0)\n",
    "    \n",
    "    truePurity = getPurity(samplesignalhist, samplebkghist, binEdges, signalFrac, *purityRange)\n",
    "    \n",
    "    plt.subplot(subplot)\n",
    "    isotf.plotFit(xlabel, dataLabel='Pseudodata', signalLabel='Signal (MC)', bkgLabel='Bkg (isolated dijet MC)',\n",
    "                  texts=['Purity = {0:2.2f}'.format(isotf.getPurity(*purityRange)[0]), '{0} < pT < {1} GeV/c'.format(*ptrange)],\n",
    "                  legendoptions={'fontsize': 8, 'framealpha': 0.9, 'frameon': False})\n",
    "    plt.ylabel('Arb. units')\n",
    "    plt.subplot(subplot + 1)\n",
    "    antiisotf.plotFit(xlabel, dataLabel='Pseudodata', signalLabel='Signal (MC)', bkgLabel='Bkg (anti-isolated dijet MC)',\n",
    "                      texts=['Purity = {0:2.2f}'.format(antiisotf.getPurity(*purityRange)[0]), '{0} < pT < {1} GeV/c'.format(*ptrange)],\n",
    "                      legendoptions={'fontsize': 8, 'framealpha': 0.9, 'frameon': False})\n",
    "    plt.ylabel('Arb. units')\n",
    "\n",
    "fig = plt.figure(figsize=(15, 15))\n",
    "makeTfCompFigure(nn1, (20, 30), 321)\n",
    "makeTfCompFigure(lambda2, (12, 14), 323)\n",
    "makeTfCompFigure(emaxe, (14, 16), 325)\n",
    "plt.show()"
   ]
  },
  {
   "cell_type": "code",
   "execution_count": null,
   "metadata": {},
   "outputs": [],
   "source": [
    "for var in [nn1, lambda2, emaxe]:\n",
    "    for ptrange in ptranges:\n",
    "        print 'system: pp; variable: {0}; ptrange: {1} < pT < {2}'.format(var, *ptrange)\n",
    "        frac = getTrueFrac(fulldatadf, fullgjmcdf, var, ptrange)\n",
    "        plotTfComp(var, frac, ptrange)\n",
    "        \n",
    "plt.show()"
   ]
  }
 ],
 "metadata": {
  "kernelspec": {
   "display_name": "PyROOT",
   "language": "python",
   "name": "pyroot"
  },
  "language_info": {
   "codemirror_mode": {
    "name": "ipython",
    "version": 2
   },
   "file_extension": ".py",
   "mimetype": "text/x-python",
   "name": "python",
   "nbconvert_exporter": "python",
   "pygments_lexer": "ipython2",
   "version": "2.7.12"
  }
 },
 "nbformat": 4,
 "nbformat_minor": 2
}
