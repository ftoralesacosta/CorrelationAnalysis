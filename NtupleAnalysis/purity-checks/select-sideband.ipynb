{
 "cells": [
  {
   "cell_type": "markdown",
   "metadata": {},
   "source": [
    "# Import packages and define functions"
   ]
  },
  {
   "cell_type": "code",
   "execution_count": null,
   "metadata": {},
   "outputs": [],
   "source": [
    "from ntuples_to_dfs import *\n",
    "from template_fit import *\n",
    "from default_values import *\n",
    "\n",
    "import matplotlib.pyplot as plt\n",
    "import numpy as np\n",
    "\n",
    "%matplotlib inline"
   ]
  },
  {
   "cell_type": "code",
   "execution_count": null,
   "metadata": {},
   "outputs": [],
   "source": [
    "def checkAntiisoSlices(isovar, fitvar, isohist, mchist, mcerr, antiisoslices, datadf, binEdges, purityRange):\n",
    "    chi2dofs = []\n",
    "    purities = []\n",
    "    \n",
    "    for antiisoslice in antiisoslices:\n",
    "        antiisodf = applyCut(datadf, '{0}>{1} and {0}<{2}'.format(isovar, *antiisoslice))\n",
    "        antiisohist = np.histogram(antiisodf[fitvar], bins=binEdges, weights=antiisodf['weights'])[0]\n",
    "\n",
    "        tf = TemplateFit(isohist, None, mchist, mcerr, antiisohist, None, binEdges, verbosity=0)\n",
    "        chi2dof = tf.chi2 / tf.dof\n",
    "        purity = tf.getPurity(*purityRange)[0]\n",
    "\n",
    "        chi2dofs.append(chi2dof)\n",
    "        purities.append(purity)\n",
    "\n",
    "    return chi2dofs, purities\n",
    "\n",
    "\n",
    "def getBand(antiisoslices, values, antiisoregion):\n",
    "    minValue = np.inf\n",
    "    maxValue = -np.inf\n",
    "    \n",
    "    for (antiisoslice, value) in zip(antiisoslices, values):\n",
    "        if antiisoslice[0] >= antiisoregion[0] and antiisoslice[1] <= antiisoregion[1]:\n",
    "            minValue = min(minValue, value)\n",
    "            maxValue = max(maxValue, value)\n",
    "            \n",
    "    return minValue, maxValue\n",
    "\n",
    "\n",
    "def addInfo(ptrange, ylabel, showLegend=True):\n",
    "    ax = plt.gca()\n",
    "    xlim = ax.get_xlim()\n",
    "    ax.axvspan(xlim[0], 1.5, color='k', alpha=0.4)\n",
    "    ax.set_xlim(xlim)\n",
    "    ax.axvspan(antiisocut[0], antiisocut[1], color='g', alpha=0.1)\n",
    "    plt.xlabel('Anti-isolation cut [GeV]')\n",
    "    plt.ylabel(ylabel)\n",
    "\n",
    "    if showLegend:\n",
    "        plt.plot([], [], ' ', label='{0} < pT < {1} GeV'.format(*ptrange))\n",
    "        plt.legend(loc=4)\n",
    "        \n",
    "\n",
    "def plotAntiisoSlices(fulldatadf, fullmcdf, ptrange):\n",
    "    antiisoslices = [(x, x + 2.0) for x in np.arange(-3, 25, 0.5)]\n",
    "    antiisocenters = [np.mean(s) for s in antiisoslices]\n",
    "    antiisowidths = [(s[1] - s[0]) / 2.0 for s in antiisoslices]\n",
    "\n",
    "    ptcut = '{0}>{1} and {0}<{2}'.format('cluster_pt', *ptrange)\n",
    "    datadf = applyCut(fulldatadf, ptcut)\n",
    "    mcdf = applyCut(fullmcdf, ptcut)\n",
    "\n",
    "    isodf = applyCut(datadf, isocuttext)\n",
    "    mcisodf = applyCut(mcdf, isocuttext)\n",
    "\n",
    "    plt.figure(figsize=(18, 6))\n",
    "\n",
    "    for fitvar, color in zip([nn1, lambda2], ['b', 'r']):\n",
    "        binEdges, purityRange, _ = varinfo[fitvar]\n",
    "\n",
    "        isohist = np.histogram(isodf[fitvar], bins=binEdges, weights=isodf['weights'])[0]\n",
    "        mchist, mcerr = getHistAndErr(mcisodf, fitvar, binEdges)\n",
    "\n",
    "        chi2dofs, purities = checkAntiisoSlices(isovar, fitvar, isohist, mchist, mcerr, antiisoslices, datadf, binEdges, purityRange)\n",
    "        chi2band = getBand(antiisoslices, chi2dofs, antiisocut)\n",
    "        purband = getBand(antiisoslices, purities, antiisocut)\n",
    "\n",
    "        print '{0} for {1} < pT < {2}: {3:1.2f} to {4:1.2f}; {5:2.2f}\\%'.format(fitvar, ptrange[0], ptrange[1], purband[0], purband[1], 100*(purband[1]-purband[0])/np.sqrt(12))\n",
    "\n",
    "        label = '{1} < {0} < {2}'.format(fitvar, *purityRange)\n",
    "\n",
    "        plt.subplot(121)\n",
    "        plt.errorbar(antiisocenters, chi2dofs, xerr=antiisowidths, fmt='none', ecolor=color, label=label)\n",
    "        addInfo(ptrange, 'Chi2/dof', showLegend=False)\n",
    "\n",
    "        plt.subplot(122)\n",
    "        plt.errorbar(antiisocenters, purities, xerr=antiisowidths, fmt='none', ecolor=color, label=label)\n",
    "        ax = plt.gca()\n",
    "        ax.axhspan(purband[0], purband[1], color=color, alpha=0.2)\n",
    "        addInfo(ptrange, 'Purity', showLegend=True)    \n"
   ]
  },
  {
   "cell_type": "markdown",
   "metadata": {},
   "source": [
    "# p-Pb\n",
    "## Process ntuples"
   ]
  },
  {
   "cell_type": "code",
   "execution_count": null,
   "metadata": {},
   "outputs": [],
   "source": [
    "ppbdatadf = applyCuts(getData(pPbdataFiles, ntupledir), fullpt)\n",
    "ppbgjmcdf = applyCuts(getData(pPbgjmcFiles, ntupledir), fullpt)"
   ]
  },
  {
   "cell_type": "markdown",
   "metadata": {},
   "source": [
    "## Make plots"
   ]
  },
  {
   "cell_type": "code",
   "execution_count": null,
   "metadata": {},
   "outputs": [],
   "source": [
    "plotAntiisoSlices(ppbdatadf, ppbgjmcdf, gjpt)\n",
    "plotAntiisoSlices(ppbdatadf, ppbgjmcdf, ghpt)"
   ]
  },
  {
   "cell_type": "markdown",
   "metadata": {},
   "source": [
    "# pp\n",
    "## Process ntuples"
   ]
  },
  {
   "cell_type": "code",
   "execution_count": null,
   "metadata": {},
   "outputs": [],
   "source": [
    "ppdatadf = applyCuts(getData(ppdataFiles, ntupledir), fullpt)\n",
    "ppgjmcdf = applyCuts(getData(ppgjmcFiles, ntupledir), fullpt)"
   ]
  },
  {
   "cell_type": "markdown",
   "metadata": {},
   "source": [
    "## Make plots"
   ]
  },
  {
   "cell_type": "code",
   "execution_count": null,
   "metadata": {},
   "outputs": [],
   "source": [
    "plotAntiisoSlices(ppdatadf, ppgjmcdf, gjpt)\n",
    "plotAntiisoSlices(ppdatadf, ppgjmcdf, ghpt)"
   ]
  }
 ],
 "metadata": {
  "kernelspec": {
   "display_name": "PyROOT",
   "language": "python",
   "name": "pyroot"
  },
  "language_info": {
   "codemirror_mode": {
    "name": "ipython",
    "version": 2
   },
   "file_extension": ".py",
   "mimetype": "text/x-python",
   "name": "python",
   "nbconvert_exporter": "python",
   "pygments_lexer": "ipython2",
   "version": "2.7.12"
  }
 },
 "nbformat": 4,
 "nbformat_minor": 2
}
